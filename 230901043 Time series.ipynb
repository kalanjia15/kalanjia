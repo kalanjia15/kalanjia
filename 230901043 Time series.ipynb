{
 "cells": [
  {
   "cell_type": "code",
   "execution_count": 1,
   "id": "34f41b5b",
   "metadata": {},
   "outputs": [
    {
     "name": "stdout",
     "output_type": "stream",
     "text": [
      "today=now function: 2025-04-11 10:36:06.033255\n"
     ]
    }
   ],
   "source": [
    "import datetime\n",
    "a=datetime.datetime.now()\n",
    "print(\"today=now function:\",a)"
   ]
  },
  {
   "cell_type": "code",
   "execution_count": 3,
   "id": "818381b1",
   "metadata": {},
   "outputs": [
    {
     "name": "stdout",
     "output_type": "stream",
     "text": [
      "\n",
      " today: 2025-04-11 10:40:16.222415\n"
     ]
    }
   ],
   "source": [
    "today=datetime.datetime.today()\n",
    "print(\"\\n today:\",today)"
   ]
  },
  {
   "cell_type": "code",
   "execution_count": 4,
   "id": "bcee5764",
   "metadata": {},
   "outputs": [
    {
     "name": "stdout",
     "output_type": "stream",
     "text": [
      "\n",
      " tomorrow: 2025-04-14 10:40:16.222415\n"
     ]
    }
   ],
   "source": [
    "tomorrow=today+datetime.timedelta(days=3)\n",
    "print(\"\\n tomorrow:\",tomorrow)"
   ]
  },
  {
   "cell_type": "code",
   "execution_count": 6,
   "id": "2a7d6f26",
   "metadata": {},
   "outputs": [
    {
     "name": "stdout",
     "output_type": "stream",
     "text": [
      "\n",
      " Yesterday: 2025-04-09 10:40:16.222415\n"
     ]
    }
   ],
   "source": [
    "yesterday=today-datetime.timedelta(days=2)\n",
    "print(\"\\n Yesterday:\",yesterday)"
   ]
  },
  {
   "cell_type": "code",
   "execution_count": 7,
   "id": "51e4f8da",
   "metadata": {},
   "outputs": [
    {
     "name": "stdout",
     "output_type": "stream",
     "text": [
      "dateformat[2020,6,8,23,10,25,404040]:\n"
     ]
    }
   ],
   "source": [
    "a=datetime.datetime.now()\n",
    "b=datetime.datetime(2020,6,8,23,10,25,404040)\n",
    "print(\"dateformat[2020,6,8,23,10,25,404040]:\")"
   ]
  },
  {
   "cell_type": "code",
   "execution_count": 9,
   "id": "fcd6a05f",
   "metadata": {},
   "outputs": [
    {
     "name": "stdout",
     "output_type": "stream",
     "text": [
      "\n",
      " Replacing date 2024-12-31 2024-12-15\n"
     ]
    }
   ],
   "source": [
    "from datetime import date\n",
    "d=date(2024,12,31)\n",
    "print(\"\\n Replacing date\",d,d.replace(day=15))"
   ]
  },
  {
   "cell_type": "code",
   "execution_count": 10,
   "id": "550cf67e",
   "metadata": {},
   "outputs": [
    {
     "name": "stdout",
     "output_type": "stream",
     "text": [
      "\n",
      "Today: 2025-04-11\n",
      "Current year: 2025\n",
      "Current month: 4\n",
      "Current day: 11\n"
     ]
    }
   ],
   "source": [
    "today=date.today()\n",
    "print(\"\\nToday:\",today)\n",
    "print(\"Current year:\",today.year)\n",
    "print(\"Current month:\",today.month)\n",
    "print(\"Current day:\",today.day)"
   ]
  },
  {
   "cell_type": "code",
   "execution_count": null,
   "id": "68660899",
   "metadata": {},
   "outputs": [],
   "source": []
  }
 ],
 "metadata": {
  "kernelspec": {
   "display_name": "Python 3 (ipykernel)",
   "language": "python",
   "name": "python3"
  },
  "language_info": {
   "codemirror_mode": {
    "name": "ipython",
    "version": 3
   },
   "file_extension": ".py",
   "mimetype": "text/x-python",
   "name": "python",
   "nbconvert_exporter": "python",
   "pygments_lexer": "ipython3",
   "version": "3.11.4"
  }
 },
 "nbformat": 4,
 "nbformat_minor": 5
}
