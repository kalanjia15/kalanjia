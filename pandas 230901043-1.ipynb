{
 "cells": [
  {
   "cell_type": "code",
   "execution_count": 2,
   "id": "9a0e77e1",
   "metadata": {},
   "outputs": [
    {
     "name": "stdout",
     "output_type": "stream",
     "text": [
      "Empty DataFrame\n",
      "Columns: []\n",
      "Index: []\n"
     ]
    }
   ],
   "source": [
    "import pandas as pd\n",
    "df=pd.DataFrame()\n",
    "print(df)"
   ]
  },
  {
   "cell_type": "code",
   "execution_count": 14,
   "id": "a2e41ed6",
   "metadata": {},
   "outputs": [
    {
     "name": "stdout",
     "output_type": "stream",
     "text": [
      "\n",
      "Series to data frame\n",
      "\n",
      "      Emp  Id\n",
      "0     uma  10\n",
      "1    siva  20\n",
      "2  sindhu  30\n",
      "3    rare  40\n",
      "\n",
      " extracting one column\n",
      "\n",
      "0       uma\n",
      "1      siva\n",
      "2    sindhu\n",
      "3      rare\n",
      "Name: Emp, dtype: object\n",
      "      Emp  Id  age\n",
      "0     uma  10   20\n",
      "1    siva  20   25\n",
      "2  sindhu  30   30\n",
      "3    rare  40   35\n",
      "\n",
      " delecting:       Emp  Id\n",
      "0     uma  10\n",
      "1    siva  20\n",
      "2  sindhu  30\n",
      "3    rare  40\n",
      "\n",
      " extracting the second row\n",
      "\n",
      "Emp    siva\n",
      "Id       20\n",
      "Name: 1, dtype: object\n",
      "slice rows:\n",
      "       Emp  Id\n",
      "1    siva  20\n",
      "2  sindhu  30\n"
     ]
    }
   ],
   "source": [
    "import pandas as pd\n",
    "emp=pd.Series(['uma','siva','sindhu','rare'])\n",
    "id=pd.Series([10,20,30,40])\n",
    "Frame={'Emp':emp,'Id':id}\n",
    "result=pd.DataFrame(Frame)\n",
    "print(\"\\nSeries to data frame\\n\")\n",
    "print(result)\n",
    "print('\\n extracting one column\\n')\n",
    "print(result['Emp'])\n",
    "result['age']=pd.Series([20,25,30,35])\n",
    "print(result)\n",
    "del result['age']\n",
    "print(\"\\n delecting:\",result)\n",
    "print('\\n extracting the second row\\n')\n",
    "print(result.loc[1])\n",
    "print(\"slice rows:\\n\",result[1:3])"
   ]
  },
  {
   "cell_type": "code",
   "execution_count": 21,
   "id": "c31206be",
   "metadata": {},
   "outputs": [
    {
     "name": "stdout",
     "output_type": "stream",
     "text": [
      "\n",
      " adding new row values\n",
      "       Emp    Id     0     1\n",
      "0     uma  10.0   NaN   NaN\n",
      "1    siva  20.0   NaN   NaN\n",
      "2  sindhu  30.0   NaN   NaN\n",
      "3    rare  40.0   NaN   NaN\n",
      "0     NaN   NaN   Anu  20.0\n",
      "1     NaN   NaN  jinu  19.0\n"
     ]
    }
   ],
   "source": [
    "d2=pd.DataFrame([['Anu',20],['jinu',19]])\n",
    "colums=['Emp','Id']\n",
    "print('\\n adding new row values\\n',pd.concat([result,d2]))"
   ]
  },
  {
   "cell_type": "code",
   "execution_count": null,
   "id": "a9968725",
   "metadata": {},
   "outputs": [],
   "source": []
  }
 ],
 "metadata": {
  "kernelspec": {
   "display_name": "Python 3 (ipykernel)",
   "language": "python",
   "name": "python3"
  },
  "language_info": {
   "codemirror_mode": {
    "name": "ipython",
    "version": 3
   },
   "file_extension": ".py",
   "mimetype": "text/x-python",
   "name": "python",
   "nbconvert_exporter": "python",
   "pygments_lexer": "ipython3",
   "version": "3.11.4"
  }
 },
 "nbformat": 4,
 "nbformat_minor": 5
}
