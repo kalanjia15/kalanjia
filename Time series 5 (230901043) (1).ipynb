{
 "cells": [
  {
   "cell_type": "code",
   "execution_count": 1,
   "id": "c46760a8",
   "metadata": {},
   "outputs": [
    {
     "name": "stdout",
     "output_type": "stream",
     "text": [
      "\n",
      "With this date object, create a series with datetime index:\n",
      " 2020-01-05   -0.253474\n",
      "2020-01-10   -0.241841\n",
      "2020-01-15   -0.089943\n",
      "2020-01-20   -0.220736\n",
      "2020-01-25    0.019409\n",
      "dtype: float64\n"
     ]
    }
   ],
   "source": [
    "import pandas as pd\n",
    "import numpy as np\n",
    "from datetime import datetime\n",
    "\n",
    "# Create a list of datetime objects\n",
    "dates = [datetime(2020, 1, 5),\n",
    "         datetime(2020, 1, 10),\n",
    "         datetime(2020, 1, 15),\n",
    "         datetime(2020, 1, 20),\n",
    "         datetime(2020, 1, 25)]\n",
    "\n",
    "# Create a pandas Series with random values and datetime index\n",
    "ts = pd.Series(np.random.randn(5), index=dates)\n",
    "\n",
    "# Print the resulting Series\n",
    "print(\"\\nWith this date object, create a series with datetime index:\\n\", ts)\n"
   ]
  },
  {
   "cell_type": "code",
   "execution_count": 2,
   "id": "6ae16f1f",
   "metadata": {},
   "outputs": [
    {
     "name": "stdout",
     "output_type": "stream",
     "text": [
      "\n",
      "Truncate method to truncate datetime series \n",
      " 2020-01-05   -0.253474\n",
      "2020-01-10   -0.241841\n",
      "2020-01-15   -0.089943\n",
      "dtype: float64\n"
     ]
    }
   ],
   "source": [
    "res=ts.truncate(after=\"1/15/2020\")\n",
    "print(\"\\nTruncate method to truncate datetime series \\n\", res)"
   ]
  },
  {
   "cell_type": "code",
   "execution_count": 3,
   "id": "d32a6ca0",
   "metadata": {},
   "outputs": [
    {
     "name": "stdout",
     "output_type": "stream",
     "text": [
      "\n",
      "Date range with day periods.\n",
      " DatetimeIndex(['2022-10-02', '2022-10-09', '2022-10-16', '2022-10-23',\n",
      "               '2022-10-30', '2022-11-06', '2022-11-13', '2022-11-20',\n",
      "               '2022-11-27', '2022-12-04'],\n",
      "              dtype='datetime64[ns]', freq='W-SUN')\n"
     ]
    }
   ],
   "source": [
    "da=pd.date_range(\"10/1/2022\", periods=10, freq=\"W-SUN\")\n",
    "print(\"\\nDate range with day periods.\\n\",da)"
   ]
  },
  {
   "cell_type": "code",
   "execution_count": 4,
   "id": "006fba8b",
   "metadata": {},
   "outputs": [
    {
     "name": "stdout",
     "output_type": "stream",
     "text": [
      "\n",
      "Duplicate datetime index:\n",
      " 2020-01-01    0\n",
      "2020-01-02    1\n",
      "2020-01-02    2\n",
      "2020-01-02    3\n",
      "2020-01-03    4\n",
      "dtype: int64\n"
     ]
    }
   ],
   "source": [
    "date=pd.DatetimeIndex([\"1/1/2020\",\"1/2/2020\",\"1/2/2020\",\"1/2/2020\",\"1/3/2020\"])\n",
    "ts1=pd.Series(np.arange(5), index=date)\n",
    "print(\"\\nDuplicate datetime index:\\n\",ts1)"
   ]
  },
  {
   "cell_type": "code",
   "execution_count": 5,
   "id": "1b4d8a24",
   "metadata": {},
   "outputs": [
    {
     "name": "stdout",
     "output_type": "stream",
     "text": [
      "\n",
      "Repeated date counts:\n",
      " 2020-01-01    1\n",
      "2020-01-02    3\n",
      "2020-01-03    1\n",
      "dtype: int64\n"
     ]
    }
   ],
   "source": [
    "group=ts1.groupby(level=0)\n",
    "print(\"\\nRepeated date counts:\\n\",group.count())"
   ]
  },
  {
   "cell_type": "code",
   "execution_count": 6,
   "id": "bc08452e",
   "metadata": {},
   "outputs": [
    {
     "name": "stdout",
     "output_type": "stream",
     "text": [
      "\n",
      "Multi-column DataFrame with datatime index:\n",
      "                    A         B         C         D\n",
      "2022-10-02  1.169473  2.383080  0.658752 -0.397627\n",
      "2022-10-09 -0.260207 -0.618342  0.678804  0.207179\n",
      "2022-10-16  0.762189 -0.125292  1.706538 -0.178971\n",
      "2022-10-23  0.232036 -0.361363  0.061278 -1.207505\n",
      "2022-10-30 -1.987572  0.544598 -0.116666 -0.910262\n",
      "2022-11-06 -0.161002  1.081359 -0.782347  0.146812\n",
      "2022-11-13 -0.282892 -0.361374  1.019046  0.580052\n",
      "2022-11-20 -1.635880  1.350137  0.110345  0.070376\n",
      "2022-11-27 -0.187448 -1.067645  1.291069 -0.308717\n",
      "2022-12-04  0.567007 -0.002588  0.004242 -1.262224\n"
     ]
    }
   ],
   "source": [
    "long_df=pd.DataFrame(np.random.randn(10,4),index=da,columns=list(\"ABCD\"))\n",
    "print(\"\\nMulti-column DataFrame with datatime index:\\n\",long_df)"
   ]
  },
  {
   "cell_type": "code",
   "execution_count": null,
   "id": "28b5ae8a",
   "metadata": {},
   "outputs": [],
   "source": []
  }
 ],
 "metadata": {
  "kernelspec": {
   "display_name": "Python 3 (ipykernel)",
   "language": "python",
   "name": "python3"
  },
  "language_info": {
   "codemirror_mode": {
    "name": "ipython",
    "version": 3
   },
   "file_extension": ".py",
   "mimetype": "text/x-python",
   "name": "python",
   "nbconvert_exporter": "python",
   "pygments_lexer": "ipython3",
   "version": "3.11.5"
  }
 },
 "nbformat": 4,
 "nbformat_minor": 5
}
