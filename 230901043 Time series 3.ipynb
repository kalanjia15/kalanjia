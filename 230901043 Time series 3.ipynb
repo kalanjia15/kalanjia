{
 "cells": [
  {
   "cell_type": "code",
   "execution_count": 1,
   "id": "3cae1ab3",
   "metadata": {},
   "outputs": [
    {
     "name": "stdout",
     "output_type": "stream",
     "text": [
      "Date Index \n",
      " 2011-01-02   -0.840244\n",
      "2011-01-05    0.530339\n",
      "2011-01-07   -2.429384\n",
      "2011-01-08    0.580658\n",
      "2011-01-10   -1.096757\n",
      "2011-01-12    1.674125\n",
      "dtype: float64\n"
     ]
    }
   ],
   "source": [
    "import pandas as pd\n",
    "import numpy as np\n",
    "from datetime import datetime\n",
    "\n",
    "#create a date variable that contains the dates\n",
    "dates = [datetime(2011, 1, 2),\n",
    "datetime(2011, 1, 5),\n",
    "datetime(2011, 1, 7),\n",
    "datetime(2011, 1, 8),\n",
    "datetime(2011, 1, 10),\n",
    "datetime(2011, 1, 12)]\n",
    "\n",
    "#with this date object, create a series\n",
    "ts = pd.Series(np.random.randn(6), index=dates)\n",
    "print('Date Index \\n',ts)"
   ]
  },
  {
   "cell_type": "code",
   "execution_count": 2,
   "id": "b6f74c57",
   "metadata": {},
   "outputs": [
    {
     "name": "stdout",
     "output_type": "stream",
     "text": [
      "\n",
      "Date Index alone from the series: \n",
      " DatetimeIndex(['2011-01-02', '2011-01-05', '2011-01-07', '2011-01-08',\n",
      "               '2011-01-10', '2011-01-12'],\n",
      "              dtype='datetime64[ns]', freq=None)\n"
     ]
    }
   ],
   "source": [
    "print('\\nDate Index alone from the series: \\n',ts.index)"
   ]
  },
  {
   "cell_type": "code",
   "execution_count": 3,
   "id": "77b4d927",
   "metadata": {},
   "outputs": [
    {
     "name": "stdout",
     "output_type": "stream",
     "text": [
      "\n",
      "Second index:\n",
      " 2011-01-07 00:00:00\n"
     ]
    }
   ],
   "source": [
    "stamp=ts.index[2]\n",
    "print('\\nSecond index:\\n', stamp)"
   ]
  },
  {
   "cell_type": "code",
   "execution_count": 4,
   "id": "e1c67fd4",
   "metadata": {},
   "outputs": [
    {
     "name": "stdout",
     "output_type": "stream",
     "text": [
      "\n",
      "Daterange up to 1000 days:\n",
      " 2000-01-01   -0.222422\n",
      "2000-01-02   -2.305760\n",
      "2000-01-03   -0.785803\n",
      "2000-01-04   -0.153103\n",
      "2000-01-05    1.108672\n",
      "                ...   \n",
      "2002-09-22   -1.035406\n",
      "2002-09-23    0.582868\n",
      "2002-09-24   -0.953947\n",
      "2002-09-25   -0.569894\n",
      "2002-09-26    0.217724\n",
      "Freq: D, Length: 1000, dtype: float64\n"
     ]
    }
   ],
   "source": [
    "#play like a ball with long-times series\n",
    "longer_ts=pd.Series(np.random.randn(1000),\n",
    "index=pd.date_range('2000-01-01',periods=1000))\n",
    "print('\\nDaterange up to 1000 days:\\n',longer_ts)"
   ]
  },
  {
   "cell_type": "code",
   "execution_count": 5,
   "id": "2f67fddd",
   "metadata": {},
   "outputs": [
    {
     "name": "stdout",
     "output_type": "stream",
     "text": [
      "\n",
      "Date range-2001 year:\n",
      " 2001-01-01   -0.115766\n",
      "2001-01-02   -1.101790\n",
      "2001-01-03    0.049445\n",
      "2001-01-04   -0.930535\n",
      "2001-01-05   -1.959152\n",
      "                ...   \n",
      "2001-12-27   -0.328378\n",
      "2001-12-28   -1.076978\n",
      "2001-12-29    0.190546\n",
      "2001-12-30    0.689270\n",
      "2001-12-31    0.117131\n",
      "Freq: D, Length: 365, dtype: float64\n"
     ]
    }
   ],
   "source": [
    "print('\\nDate range-2001 year:\\n', longer_ts['2001'])"
   ]
  },
  {
   "cell_type": "code",
   "execution_count": 6,
   "id": "12664829",
   "metadata": {},
   "outputs": [
    {
     "name": "stdout",
     "output_type": "stream",
     "text": [
      "\n",
      "Date range-first few dates in 2000 year:\n",
      " 2000-01-01   -0.222422\n",
      "2000-01-02   -2.305760\n",
      "2000-01-03   -0.785803\n",
      "2000-01-04   -0.153103\n",
      "2000-01-05    1.108672\n",
      "Freq: D, dtype: float64\n"
     ]
    }
   ],
   "source": [
    "print('\\nDate range-first few dates in 2000 year:\\n',longer_ts['2000'].head())"
   ]
  },
  {
   "cell_type": "code",
   "execution_count": 7,
   "id": "20b7cec6",
   "metadata": {},
   "outputs": [
    {
     "name": "stdout",
     "output_type": "stream",
     "text": [
      "\n",
      "Date range-first 15 dates in 02 month 2001 year:\n",
      " 2000-02-01   -0.709782\n",
      "2000-02-02   -0.267834\n",
      "2000-02-03    1.146412\n",
      "2000-02-04   -0.036688\n",
      "2000-02-05    0.024043\n",
      "2000-02-06    0.403166\n",
      "2000-02-07    0.015310\n",
      "2000-02-08   -0.073493\n",
      "2000-02-09    0.414171\n",
      "2000-02-10    0.339385\n",
      "2000-02-11    0.683376\n",
      "2000-02-12    2.483129\n",
      "2000-02-13    1.292331\n",
      "2000-02-14    0.361349\n",
      "2000-02-15    0.309956\n",
      "Freq: D, dtype: float64\n"
     ]
    }
   ],
   "source": [
    "print('\\nDate range-first 15 dates in 02 month 2001 year:\\n',longer_ts['2000-02'].head(15))"
   ]
  },
  {
   "cell_type": "code",
   "execution_count": 8,
   "id": "c423d60d",
   "metadata": {},
   "outputs": [
    {
     "name": "stdout",
     "output_type": "stream",
     "text": [
      "\n",
      "Date range-rom 26-9-2001:\n",
      " 2000-09-26   -0.098204\n",
      "2000-09-27   -0.164103\n",
      "2000-09-28    0.093758\n",
      "2000-09-29   -0.817624\n",
      "2000-09-30   -0.064005\n",
      "                ...   \n",
      "2002-09-22   -1.035406\n",
      "2002-09-23    0.582868\n",
      "2002-09-24   -0.953947\n",
      "2002-09-25   -0.569894\n",
      "2002-09-26    0.217724\n",
      "Freq: D, Length: 731, dtype: float64\n"
     ]
    }
   ],
   "source": [
    "print('\\nDate range-rom 26-9-2001:\\n',longer_ts[datetime(2000,9,26):])"
   ]
  },
  {
   "cell_type": "code",
   "execution_count": 10,
   "id": "05036131",
   "metadata": {},
   "outputs": [
    {
     "name": "stdout",
     "output_type": "stream",
     "text": [
      "\n",
      "Date range from 26-9-2001 to 25-9-2002:\n",
      " 2001-09-26   -0.297230\n",
      "2001-09-27   -2.021913\n",
      "2001-09-28   -1.873322\n",
      "2001-09-29    0.536276\n",
      "2001-09-30    0.393882\n",
      "                ...   \n",
      "2002-09-21    0.309201\n",
      "2002-09-22   -1.035406\n",
      "2002-09-23    0.582868\n",
      "2002-09-24   -0.953947\n",
      "2002-09-25   -0.569894\n",
      "Freq: D, Length: 365, dtype: float64\n"
     ]
    }
   ],
   "source": [
    "print('\\nDate range from 26-9-2001 to 25-9-2002:\\n',longer_ts[datetime(2001,9,26):datetime(2002,9,25)])"
   ]
  },
  {
   "cell_type": "code",
   "execution_count": null,
   "id": "5efbca7e",
   "metadata": {},
   "outputs": [],
   "source": []
  }
 ],
 "metadata": {
  "kernelspec": {
   "display_name": "Python 3 (ipykernel)",
   "language": "python",
   "name": "python3"
  },
  "language_info": {
   "codemirror_mode": {
    "name": "ipython",
    "version": 3
   },
   "file_extension": ".py",
   "mimetype": "text/x-python",
   "name": "python",
   "nbconvert_exporter": "python",
   "pygments_lexer": "ipython3",
   "version": "3.11.4"
  }
 },
 "nbformat": 4,
 "nbformat_minor": 5
}
