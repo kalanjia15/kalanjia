{
 "cells": [
  {
   "cell_type": "code",
   "execution_count": 8,
   "id": "484744c6",
   "metadata": {},
   "outputs": [
    {
     "name": "stdout",
     "output_type": "stream",
     "text": [
      "\n",
      " original Dataframe: \n",
      "    S  R\n",
      "0  3  9\n",
      "1  3  9\n",
      "2  3  9\n",
      "3  3  9\n",
      "\n",
      " square root: \n",
      "           S    R\n",
      "0  1.732051  3.0\n",
      "1  1.732051  3.0\n",
      "2  1.732051  3.0\n",
      "3  1.732051  3.0\n",
      "\n",
      " sum of each column: \n",
      " S    12\n",
      "R    36\n",
      "dtype: int64\n",
      "\n",
      " sum of each row: \n",
      " 0    12\n",
      "1    12\n",
      "2    12\n",
      "3    12\n",
      "dtype: int64\n"
     ]
    }
   ],
   "source": [
    "import pandas as pd\n",
    "import numpy as np\n",
    "info=pd.DataFrame([[3,9]]*4,columns=['S','R'])\n",
    "print(\"\\n original Dataframe: \\n\",info)\n",
    "print('\\n square root: \\n',info.apply(np.sqrt))\n",
    "print('\\n sum of each column: \\n',info.apply(np.sum,axis=0))\n",
    "print('\\n sum of each row: \\n',info.apply(np.sum,axis=1))\n"
   ]
  },
  {
   "cell_type": "code",
   "execution_count": 11,
   "id": "e3e274e3",
   "metadata": {},
   "outputs": [
    {
     "name": "stdout",
     "output_type": "stream",
     "text": [
      "   X  Y  Z\n",
      "0  2  4  6\n",
      "1  1  3  5\n",
      "2  5  8  7\n",
      "     X  Y  Z\n",
      "min  1  3  5\n",
      "max  5  8  7\n"
     ]
    }
   ],
   "source": [
    "import pandas as pd\n",
    "import numpy as np\n",
    "info=pd.DataFrame([[2,4,6],[1,3,5],[5,8,7]],columns=['X','Y','Z'])\n",
    "print(info)\n",
    "print(info.agg(['min','max']))"
   ]
  },
  {
   "cell_type": "code",
   "execution_count": 17,
   "id": "17852791",
   "metadata": {},
   "outputs": [
    {
     "name": "stdout",
     "output_type": "stream",
     "text": [
      "  EmpName  ID\n",
      "0     sai  88\n",
      "1     poo  70\n",
      "adding a column: \n",
      "   EmpName  ID  Age\n",
      "0     sai  88   20\n",
      "1     poo  70   30\n",
      "Adding a new column: \n",
      "   EmpName  ID  Age   Sex\n",
      "0     sai  88   20  male\n",
      "1     poo  70   30  male\n",
      "adding a new column:\n",
      "   EmpName  ID  Age   Sex\n",
      "0     sai  88   20  male\n",
      "1     poo  70   18  male\n"
     ]
    }
   ],
   "source": [
    "\n",
    "import pandas as pd\n",
    "import numpy as np\n",
    "a=pd.DataFrame([['sai',88],['poo',70]],columns=['EmpName','ID'])\n",
    "print(a)\n",
    "a['Age']=[20,30]\n",
    "print(\"adding a column: \\n\",a)\n",
    "a['Sex']=['male','male']\n",
    "print(\"Adding a new column: \\n\",a)\n",
    "b=a.assign(Age=[20,18])\n",
    "print(\"adding a new column:\\n\",b)"
   ]
  },
  {
   "cell_type": "code",
   "execution_count": 22,
   "id": "c1994190",
   "metadata": {},
   "outputs": [
    {
     "name": "stdout",
     "output_type": "stream",
     "text": [
      "       col3      col4\n",
      "3  0.616877  0.715612\n",
      "2  0.525275  0.374843\n",
      "0  0.905878  0.671011\n",
      "4  0.287489  0.190296\n",
      "1  0.797577  0.022897\n",
      "       col3      col4\n",
      "0  0.905878  0.671011\n",
      "1  0.797577  0.022897\n",
      "2  0.525275  0.374843\n",
      "3  0.616877  0.715612\n",
      "4  0.287489  0.190296\n",
      "       col3      col4\n",
      "4  0.287489  0.190296\n",
      "2  0.525275  0.374843\n",
      "3  0.616877  0.715612\n",
      "1  0.797577  0.022897\n",
      "0  0.905878  0.671011\n"
     ]
    }
   ],
   "source": [
    "import pandas as pd\n",
    "info=pd.DataFrame(np.random.random((5,2)),index=[3,2,0,4,1],columns=['col3','col4'])\n",
    "print(info)\n",
    "info2=info.sort_index()\n",
    "print(info2)\n",
    "info3=info.sort_values(by='col3')\n",
    "print(info3)"
   ]
  },
  {
   "cell_type": "code",
   "execution_count": 2,
   "id": "649f0b0a",
   "metadata": {},
   "outputs": [
    {
     "name": "stdout",
     "output_type": "stream",
     "text": [
      "   id  Name   Sub\n",
      "0   1   Sai  sub1\n",
      "1   2   poo  sub2\n",
      "2   3  saba  sub3\n",
      "3   4  yuvi  sub4\n",
      "   id    Name   sub\n",
      "0   1  sanjai  sub2\n",
      "1   2   saran  sub4\n",
      "2   3     som  sub3\n",
      "3   4    ruba  sub5\n",
      "   id Name_x   Sub  Name_y   sub\n",
      "0   1    Sai  sub1  sanjai  sub2\n",
      "1   2    poo  sub2   saran  sub4\n",
      "2   3   saba  sub3     som  sub3\n",
      "3   4   yuvi  sub4    ruba  sub5\n"
     ]
    }
   ],
   "source": [
    "import pandas as pd \n",
    "import numpy as np\n",
    "left=pd.DataFrame({'id':[1,2,3,4],'Name':['Sai','poo','saba','yuvi'],'Sub':['sub1','sub2','sub3','sub4']})\n",
    "right=pd.DataFrame({'id':[1,2,3,4],'Name':['sanjai','saran','som','ruba'],'sub':['sub2','sub4','sub3','sub5']})\n",
    "print(left)\n",
    "print(right)\n",
    "print(pd.merge(left,right,on='id'))"
   ]
  },
  {
   "cell_type": "code",
   "execution_count": null,
   "id": "5a0b2a71",
   "metadata": {},
   "outputs": [],
   "source": []
  }
 ],
 "metadata": {
  "kernelspec": {
   "display_name": "Python 3 (ipykernel)",
   "language": "python",
   "name": "python3"
  },
  "language_info": {
   "codemirror_mode": {
    "name": "ipython",
    "version": 3
   },
   "file_extension": ".py",
   "mimetype": "text/x-python",
   "name": "python",
   "nbconvert_exporter": "python",
   "pygments_lexer": "ipython3",
   "version": "3.11.4"
  }
 },
 "nbformat": 4,
 "nbformat_minor": 5
}
