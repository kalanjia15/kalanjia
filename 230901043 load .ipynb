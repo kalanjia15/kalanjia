{
 "cells": [
  {
   "cell_type": "code",
   "execution_count": 25,
   "id": "0951e66d",
   "metadata": {},
   "outputs": [
    {
     "name": "stdout",
     "output_type": "stream",
     "text": [
      "   S.NO           NAME  GENDER   JOIN DATE  LAST LOGIN TIME  SALARY  BONUS  \\\n",
      "0     1       John Doe    Male    3/1/2020   2/19/2025 8:00   90000   7500   \n",
      "1     2     Jane Smith  Female   6/10/2018   2/19/2025 9:15  100000   8000   \n",
      "2     3  Emily Johnson  Female   8/20/2019  2/18/2025 19:30   85000   7000   \n",
      "3     4  Michael Brown    Male  11/15/2021  2/19/2025 10:00   95000   6000   \n",
      "4     5    Sarah White  Female   1/22/2022  2/19/2025 18:45   88000   7500   \n",
      "5     6      James Lee    Male   5/30/2020  2/19/2025 11:10   83000   7000   \n",
      "\n",
      "  SENIOR MANAGER(T/F)        TEAM  \n",
      "0                   T   Marketing  \n",
      "1                   F       Sales  \n",
      "2                   T          HR  \n",
      "3                   F          IT  \n",
      "4                   T  Operations  \n",
      "5                   F     Finance  \n"
     ]
    }
   ],
   "source": [
    "import pandas as pd\n",
    "d=pd.read_csv(\"Book1.csv\")\n",
    "print(d)"
   ]
  },
  {
   "cell_type": "code",
   "execution_count": 34,
   "id": "37aa1f07",
   "metadata": {},
   "outputs": [
    {
     "name": "stdout",
     "output_type": "stream",
     "text": [
      "Columns Index(['S.NO', 'NAME', 'GENDER', 'JOIN DATE', 'LAST LOGIN TIME', 'SALARY',\n",
      "       'BONUS', 'SENIOR MANAGER(T/F)', 'TEAM'],\n",
      "      dtype='object')\n",
      "(6, 9)\n"
     ]
    }
   ],
   "source": [
    "df=pd.DataFrame(d)\n",
    "print(\"Columns\",df.columns)\n",
    "print(df.shape)"
   ]
  },
  {
   "cell_type": "code",
   "execution_count": 39,
   "id": "9e9e694c",
   "metadata": {},
   "outputs": [
    {
     "name": "stdout",
     "output_type": "stream",
     "text": [
      "Team\n",
      " 0     Marketing\n",
      "1         Sales\n",
      "2            HR\n",
      "3            IT\n",
      "4    Operations\n",
      "5       Finance\n",
      "Name: TEAM, dtype: object\n"
     ]
    }
   ],
   "source": [
    "print(\"Team\\n\",df['TEAM'])"
   ]
  },
  {
   "cell_type": "code",
   "execution_count": 32,
   "id": "a36d656d",
   "metadata": {},
   "outputs": [
    {
     "name": "stdout",
     "output_type": "stream",
     "text": [
      "   S.NO           NAME  GENDER  JOIN DATE  LAST LOGIN TIME  SALARY  BONUS  \\\n",
      "0     1       John Doe    Male   3/1/2020   2/19/2025 8:00   90000   7500   \n",
      "1     2     Jane Smith  Female  6/10/2018   2/19/2025 9:15  100000   8000   \n",
      "2     3  Emily Johnson  Female  8/20/2019  2/18/2025 19:30   85000   7000   \n",
      "\n",
      "  SENIOR MANAGER(T/F)       TEAM  \n",
      "0                   T  Marketing  \n",
      "1                   F      Sales  \n",
      "2                   T         HR  \n"
     ]
    }
   ],
   "source": [
    "print(df[0:3])"
   ]
  },
  {
   "cell_type": "code",
   "execution_count": 33,
   "id": "e20c3b85",
   "metadata": {},
   "outputs": [
    {
     "name": "stdout",
     "output_type": "stream",
     "text": [
      "Particular person details:\n",
      " S.NO                                 5\n",
      "NAME                       Sarah White\n",
      "GENDER                          Female\n",
      "JOIN DATE                    1/22/2022\n",
      "LAST LOGIN TIME        2/19/2025 18:45\n",
      "SALARY                           88000\n",
      "BONUS                             7500\n",
      "SENIOR MANAGER(T/F)                  T\n",
      "TEAM                        Operations\n",
      "Name: 4, dtype: object\n"
     ]
    }
   ],
   "source": [
    "print(\"Particular person details:\\n\",df.loc[4])"
   ]
  },
  {
   "cell_type": "code",
   "execution_count": 36,
   "id": "d5fd5dba",
   "metadata": {},
   "outputs": [
    {
     "name": "stdout",
     "output_type": "stream",
     "text": [
      "   S.NO           NAME  GENDER  JOIN DATE  LAST LOGIN TIME  SALARY  BONUS  \\\n",
      "2     3  Emily Johnson  Female  8/20/2019  2/18/2025 19:30   85000   7000   \n",
      "\n",
      "  SENIOR MANAGER(T/F) TEAM  \n",
      "2                   T   HR  \n"
     ]
    }
   ],
   "source": [
    "print(d.loc[d['SALARY']==85000])"
   ]
  },
  {
   "cell_type": "code",
   "execution_count": 38,
   "id": "575c40fd",
   "metadata": {},
   "outputs": [
    {
     "name": "stdout",
     "output_type": "stream",
     "text": [
      "0     900.0\n",
      "1    1000.0\n",
      "2     850.0\n",
      "3     950.0\n",
      "4     880.0\n",
      "5     830.0\n",
      "Name: SALARY, dtype: float64\n"
     ]
    }
   ],
   "source": [
    "df1=d['SALARY']/100\n",
    "print(df1)"
   ]
  },
  {
   "cell_type": "code",
   "execution_count": null,
   "id": "9f70c4fe",
   "metadata": {},
   "outputs": [],
   "source": []
  }
 ],
 "metadata": {
  "kernelspec": {
   "display_name": "Python 3 (ipykernel)",
   "language": "python",
   "name": "python3"
  },
  "language_info": {
   "codemirror_mode": {
    "name": "ipython",
    "version": 3
   },
   "file_extension": ".py",
   "mimetype": "text/x-python",
   "name": "python",
   "nbconvert_exporter": "python",
   "pygments_lexer": "ipython3",
   "version": "3.11.4"
  }
 },
 "nbformat": 4,
 "nbformat_minor": 5
}
