{
 "cells": [
  {
   "cell_type": "code",
   "execution_count": 6,
   "id": "695d4332",
   "metadata": {},
   "outputs": [
    {
     "name": "stdout",
     "output_type": "stream",
     "text": [
      "  name  age\n",
      "0  sai   20\n",
      "1  sub   21\n",
      "2  poo   22\n",
      "   qualified\n",
      "0       True\n",
      "1       True\n",
      "2      False\n",
      "  name  age  qualified\n",
      "0  sai   20       True\n",
      "1  sub   21       True\n",
      "2  poo   22      False\n"
     ]
    }
   ],
   "source": [
    "import pandas as pd\n",
    "d1={\n",
    "    \"name\":[\"sai\",\"sub\",\"poo\"],\n",
    "    \"age\":[20,21,22]\n",
    "}\n",
    "d2={\n",
    "    \"qualified\":[True,True,False]\n",
    "}\n",
    "df1=pd.DataFrame(d1)\n",
    "print(df1)\n",
    "df2=pd.DataFrame(d2)\n",
    "print(df2)\n",
    "newdf=df1.join(df2)\n",
    "print(newdf)"
   ]
  },
  {
   "cell_type": "code",
   "execution_count": 7,
   "id": "fb2dda58",
   "metadata": {},
   "outputs": [
    {
     "name": "stdout",
     "output_type": "stream",
     "text": [
      "    name  age\n",
      "0    sai   20\n",
      "1  rishi   21\n",
      "2  thara   22\n",
      "   name  age\n",
      "0  rupa   23\n",
      "1  rosh  245\n",
      "2  resh   25\n",
      "  name_x  age name_y\n",
      "0    NaN   20    sai\n",
      "1    NaN   21  rishi\n",
      "2    NaN   22  thara\n",
      "  name_x  age name_y\n",
      "0    sai   20    NaN\n",
      "1  rishi   21    NaN\n",
      "2  thara   22    NaN\n"
     ]
    }
   ],
   "source": [
    "d1={\"name\":[\"sai\",\"rishi\",\"thara\"],\"age\":[20,21,22]}\n",
    "d2={\"name\":[\"rupa\",\"rosh\",\"resh\"],\"age\":[23,245,25]}\n",
    "df1=pd.DataFrame(d1)\n",
    "print(df1)\n",
    "df2=pd.DataFrame(d2)\n",
    "print(df2)\n",
    "newdf1=(df2.merge(df1,on=\"age\",how=\"right\"))\n",
    "newdf2=(df1.merge(df2,on=\"age\",how=\"left\"))\n",
    "print(newdf1)\n",
    "print(newdf2)"
   ]
  },
  {
   "cell_type": "code",
   "execution_count": 9,
   "id": "9a1ebd29",
   "metadata": {},
   "outputs": [
    {
     "name": "stdout",
     "output_type": "stream",
     "text": [
      "  team  points  assists  rebounds\n",
      "0    A      90       12        56\n",
      "1    B      56       34        23\n",
      "2    C      78       23        55\n",
      "3    D      88       44        23\n",
      "   team  variable  value\n",
      "0     A    points     90\n",
      "1     B    points     56\n",
      "2     C    points     78\n",
      "3     D    points     88\n",
      "4     A   assists     12\n",
      "5     B   assists     34\n",
      "6     C   assists     23\n",
      "7     D   assists     44\n",
      "8     A  rebounds     56\n",
      "9     B  rebounds     23\n",
      "10    C  rebounds     55\n",
      "11    D  rebounds     23\n"
     ]
    }
   ],
   "source": [
    "df=pd.DataFrame({'team':['A','B','C','D'],\n",
    "             'points':[90,56,78,88],\n",
    "             'assists':[12,34,23,44],\n",
    "             'rebounds':[56,23,55,23]})\n",
    "print(df)\n",
    "df=pd.melt(df,id_vars='team',value_vars=['points','assists','rebounds'])\n",
    "print(df)"
   ]
  },
  {
   "cell_type": "code",
   "execution_count": null,
   "id": "72887298",
   "metadata": {},
   "outputs": [],
   "source": []
  },
  {
   "cell_type": "code",
   "execution_count": null,
   "id": "42cd727e",
   "metadata": {},
   "outputs": [],
   "source": []
  }
 ],
 "metadata": {
  "kernelspec": {
   "display_name": "Python 3 (ipykernel)",
   "language": "python",
   "name": "python3"
  },
  "language_info": {
   "codemirror_mode": {
    "name": "ipython",
    "version": 3
   },
   "file_extension": ".py",
   "mimetype": "text/x-python",
   "name": "python",
   "nbconvert_exporter": "python",
   "pygments_lexer": "ipython3",
   "version": "3.11.4"
  }
 },
 "nbformat": 4,
 "nbformat_minor": 5
}
