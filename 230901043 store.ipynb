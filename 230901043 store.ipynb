{
 "cells": [
  {
   "cell_type": "code",
   "execution_count": 8,
   "id": "940fdff6",
   "metadata": {},
   "outputs": [
    {
     "name": "stdout",
     "output_type": "stream",
     "text": [
      "       a  b  c\n",
      "one    1  2  3\n",
      "two    4  5  6\n",
      "three  7  8  9\n"
     ]
    }
   ],
   "source": [
    "import pandas as pd\n",
    "d=pd.DataFrame([[1,2,3],[4,5,6],[7,8,9]],\n",
    "index=['one','two','three'],\n",
    "columns=['a','b','c'])\n",
    "print(d)"
   ]
  },
  {
   "cell_type": "code",
   "execution_count": 9,
   "id": "b984f91a",
   "metadata": {},
   "outputs": [],
   "source": [
    "d.to_excel(\"/Users/student/Downloads/shyam.xlsx\")\n",
    "d.to_excel(\"/Users/student/Downloads/roy.xlsx\")\n"
   ]
  },
  {
   "cell_type": "code",
   "execution_count": 10,
   "id": "b69f0dc4",
   "metadata": {},
   "outputs": [],
   "source": [
    "d=pd.DataFrame([[10,20,30],[40,50,60],[70,80,90]],index=['four','five','six'],columns=['X','Y','Z'])\n",
    "d.to_excel(\"/Users/student/Downloads/roy.xlsx\")"
   ]
  },
  {
   "cell_type": "code",
   "execution_count": 11,
   "id": "974e0fe2",
   "metadata": {},
   "outputs": [],
   "source": [
    "d=pd.DataFrame([[1,2],[3,4]],index=['one','two'],columns=['A','B'])\n",
    "d.to_excel(\"/Users/student/Downloads/shyam.xlsx\")"
   ]
  },
  {
   "cell_type": "code",
   "execution_count": 12,
   "id": "501215cc",
   "metadata": {},
   "outputs": [],
   "source": [
    "x=pd.read_excel(\"/Users/student/Downloads/shyam.xlsx\")\n",
    "y=pd.read_excel(\"/Users/student/Downloads/roy.xlsx\")\n",
    "z=pd.concat([x,y],ignore_index=True)\n",
    "z.to_excel(\"/Users/student/Downloads/result.xlsx\",index=False)"
   ]
  },
  {
   "cell_type": "code",
   "execution_count": 14,
   "id": "7c2d1154",
   "metadata": {},
   "outputs": [
    {
     "name": "stdout",
     "output_type": "stream",
     "text": [
      "  Unnamed: 0    A    B     X     Y     Z\n",
      "2       four  NaN  NaN  10.0  20.0  30.0\n",
      "3       five  NaN  NaN  40.0  50.0  60.0\n",
      "4        six  NaN  NaN  70.0  80.0  90.0\n",
      "0        one  1.0  2.0   NaN   NaN   NaN\n",
      "1        two  3.0  4.0   NaN   NaN   NaN\n",
      "  Unnamed: 0    A    B     X     Y     Z\n",
      "2       four  NaN  NaN  10.0  20.0  30.0\n",
      "3       five  NaN  NaN  40.0  50.0  60.0\n",
      "4        six  NaN  NaN  70.0  80.0  90.0\n",
      "0        one  1.0  2.0   NaN   NaN   NaN\n",
      "1        two  3.0  4.0   NaN   NaN   NaN\n"
     ]
    }
   ],
   "source": [
    "d=z.sort_values([\"X\"])\n",
    "print(d)\n",
    "d.to_excel(\"/Users/student/Downloads/result.xlsx\")\n",
    "d=z.sort_values([\"Y\"])\n",
    "print(d)\n",
    "d.to_excel(\"/Users/student/Downloads/result.xlsx\")"
   ]
  },
  {
   "cell_type": "code",
   "execution_count": 15,
   "id": "b5c48245",
   "metadata": {},
   "outputs": [
    {
     "name": "stdout",
     "output_type": "stream",
     "text": [
      "   Unnamed: 0.1 Unnamed: 0    A    B     X     Y     Z\n",
      "0             2       four  NaN  NaN  10.0  20.0  30.0\n",
      "1             3       five  NaN  NaN  40.0  50.0  60.0\n",
      "2             4        six  NaN  NaN  70.0  80.0  90.0\n",
      "3             0        one  1.0  2.0   NaN   NaN   NaN\n",
      "4             1        two  3.0  4.0   NaN   NaN   NaN\n",
      "['Unnamed: 0.1', 'Unnamed: 0', 'A', 'B', 'X', 'Y', 'Z']\n",
      "5\n"
     ]
    }
   ],
   "source": [
    "d=pd.read_excel(\"/Users/student/Downloads/result.xlsx\")\n",
    "print(d)\n",
    "print(list(d))\n",
    "print(format(len(d)))\n"
   ]
  },
  {
   "cell_type": "code",
   "execution_count": null,
   "id": "86af55ec",
   "metadata": {},
   "outputs": [],
   "source": []
  },
  {
   "cell_type": "code",
   "execution_count": null,
   "id": "a2ff4504",
   "metadata": {},
   "outputs": [],
   "source": []
  },
  {
   "cell_type": "code",
   "execution_count": null,
   "id": "a11a2a58",
   "metadata": {},
   "outputs": [],
   "source": []
  }
 ],
 "metadata": {
  "kernelspec": {
   "display_name": "Python 3 (ipykernel)",
   "language": "python",
   "name": "python3"
  },
  "language_info": {
   "codemirror_mode": {
    "name": "ipython",
    "version": 3
   },
   "file_extension": ".py",
   "mimetype": "text/x-python",
   "name": "python",
   "nbconvert_exporter": "python",
   "pygments_lexer": "ipython3",
   "version": "3.11.4"
  }
 },
 "nbformat": 4,
 "nbformat_minor": 5
}
