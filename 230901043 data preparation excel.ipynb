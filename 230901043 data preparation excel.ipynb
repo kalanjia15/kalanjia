{
 "cells": [
  {
   "cell_type": "code",
   "execution_count": 7,
   "id": "ee2bf012-abee-4b27-98c8-09ceec165ce2",
   "metadata": {},
   "outputs": [
    {
     "name": "stdout",
     "output_type": "stream",
     "text": [
      "original data:\n",
      "\n",
      "    Unnamed: 0  serial.no  roll    name  eng  tamil  maths  science  social  \\\n",
      "0            0          1     1     anu   67     76     45       45      77   \n",
      "1            1          2     2     roy   78     80     56       67      87   \n",
      "2            2          3     3  martin   89     54     78       78      89   \n",
      "3            3          4     4    alan   90     67     90       89      86   \n",
      "4            4          5     5    bell   23     89     89       86      85   \n",
      "5            5          6     6   peter   77     74     67       78      45   \n",
      "6            6          7     7  hendry   80     67     56       89      67   \n",
      "7            7          8     8  hendry   80     78     78       88      88   \n",
      "8            8          9     9     ben   90     90     86       78      87   \n",
      "9            9         10    10     ell   89     34     78       56      45   \n",
      "10          10         11    11     soy   88     56     90       78      67   \n",
      "11          11         12    12    park   89     78     78       80      87   \n",
      "12          12         13    13     tom   86     56     45       95      88   \n",
      "13          13         14    14   steve   87     87     78       78      86   \n",
      "14          14         15    15     ken   54     90     67       67      85   \n",
      "15          15         16    16     hen   67     34     89       75      88   \n",
      "16          16         17    17   jemmy   80     56     45       77      84   \n",
      "17          17         18    18     ren   90     78     67       78      85   \n",
      "18          18         19    19     wan   99    100     56       98      85   \n",
      "19          19         20    20     pen   92     45     78       45      85   \n",
      "\n",
      "    total  \n",
      "0     310  \n",
      "1     368  \n",
      "2     388  \n",
      "3     422  \n",
      "4     372  \n",
      "5     341  \n",
      "6     359  \n",
      "7     332  \n",
      "8     431  \n",
      "9     302  \n",
      "10    379  \n",
      "11    412  \n",
      "12    370  \n",
      "13    416  \n",
      "14    363  \n",
      "15    353  \n",
      "16    342  \n",
      "17    398  \n",
      "18    353  \n",
      "19    260  \n"
     ]
    }
   ],
   "source": [
    "import pandas as pd\n",
    "pd.set_option('display.max_columns',10)\n",
    "print(\"original data:\\n\")\n",
    "df=pd.read_excel(\"/Users/student/Downloads/exam list.xlsx\")\n",
    "print(df)"
   ]
  },
  {
   "cell_type": "code",
   "execution_count": 9,
   "id": "68ea5dd9-b275-4964-9830-3d1782792faf",
   "metadata": {},
   "outputs": [],
   "source": [
    "f=df['name'].str.strip()\n",
    "f.to_excel(\"/Users/student/Downloads/exam list 2.xlsx\")"
   ]
  },
  {
   "cell_type": "code",
   "execution_count": 15,
   "id": "8ce7ce24-c6ac-443f-b3ce-67d5163cab06",
   "metadata": {},
   "outputs": [
    {
     "name": "stdout",
     "output_type": "stream",
     "text": [
      "0        anu\n",
      "1        roy\n",
      "2     martin\n",
      "3       alan\n",
      "4       bell\n",
      "5      peter\n",
      "6     hendry\n",
      "7        NaN\n",
      "8        ben\n",
      "9        ell\n",
      "10       soy\n",
      "11      park\n",
      "12       tom\n",
      "13     steve\n",
      "14       ken\n",
      "15       hen\n",
      "16     jemmy\n",
      "17       ren\n",
      "18       wan\n",
      "19       pen\n",
      "Name: name, dtype: object\n"
     ]
    }
   ],
   "source": [
    "print(f)"
   ]
  },
  {
   "cell_type": "code",
   "execution_count": 11,
   "id": "e4cf5b71-32d7-4f9e-9a8e-d4965a152920",
   "metadata": {},
   "outputs": [
    {
     "name": "stdout",
     "output_type": "stream",
     "text": [
      "\n",
      "replace value:\n",
      "    Unnamed: 0  serial.no  roll    name  eng  tamil  maths  science  social  \\\n",
      "0            0          1     1     anu   67     76     45       45      77   \n",
      "1            1          2     2     roy   78     80     56       67      87   \n",
      "2            2          3     3  martin   89     54     78       78      89   \n",
      "3            3          4     4    alan   90     67     90       89      86   \n",
      "4            4          5     5    bell   23     89     89       86      85   \n",
      "5            5          6     6   peter   77     74     67       78      45   \n",
      "6            6          7     7  hendry   80     67     56       89      67   \n",
      "7            7          8     8  hendry   80     78     78       88      88   \n",
      "8            8          9     9     ben   90     90     86       78      87   \n",
      "9            9         10    10     ell   89     34     78       56      45   \n",
      "10          10         11    11     soy   88     56     90       78      67   \n",
      "11          11         12    12    park   89     78     78       80      87   \n",
      "12          12         13    13     tom   86     56     45       95      88   \n",
      "13          13         14    14   steve   87     87     78       78      86   \n",
      "14          14         15    15     ken   54     90     67       67      85   \n",
      "15          15         16    16     hen   67     34     89       75      88   \n",
      "16          16         17    17   jemmy   80     56     45       77      84   \n",
      "17          17         18    18     ren   90     78     67       78      85   \n",
      "18          18         19    19     wan   99    100     56       98      85   \n",
      "19          19         20    20     pen   92     45     78       45      85   \n",
      "\n",
      "    total  \n",
      "0     310  \n",
      "1     368  \n",
      "2     388  \n",
      "3     422  \n",
      "4     372  \n",
      "5     341  \n",
      "6     359  \n",
      "7     332  \n",
      "8     431  \n",
      "9     302  \n",
      "10    379  \n",
      "11    412  \n",
      "12    370  \n",
      "13    416  \n",
      "14    363  \n",
      "15    353  \n",
      "16    342  \n",
      "17    398  \n",
      "18    353  \n",
      "19    260  \n",
      "\n",
      " updated list\n",
      "\n"
     ]
    },
    {
     "name": "stderr",
     "output_type": "stream",
     "text": [
      "/var/folders/w2/jykwyxmx79n6905fy_4s9glr0000gp/T/ipykernel_4587/1747668296.py:2: FutureWarning: DataFrame.fillna with 'method' is deprecated and will raise in a future version. Use obj.ffill() or obj.bfill() instead.\n",
      "  k=df.fillna(method='Pad')\n"
     ]
    }
   ],
   "source": [
    "print(\"\\nreplace value:\")\n",
    "k=df.fillna(method='Pad')\n",
    "print(k)\n",
    "print(\"\\n updated list\\n\")\n",
    "k.to_excel(\"/Users/student/Downloads/exam list.xlsx\")"
   ]
  },
  {
   "cell_type": "code",
   "execution_count": 13,
   "id": "3904c31b-9ce5-461a-bc34-2787e2ea01e9",
   "metadata": {},
   "outputs": [
    {
     "name": "stdout",
     "output_type": "stream",
     "text": [
      "\n",
      " drop one particular column and its values:\n",
      "\n",
      "    Unnamed: 0  serial.no  roll    name  eng  tamil  maths  science  total\n",
      "0            0          1     1     anu   67     76     45       45    310\n",
      "1            1          2     2     roy   78     80     56       67    368\n",
      "2            2          3     3  martin   89     54     78       78    388\n",
      "3            3          4     4    alan   90     67     90       89    422\n",
      "4            4          5     5    bell   23     89     89       86    372\n",
      "5            5          6     6   peter   77     74     67       78    341\n",
      "6            6          7     7  hendry   80     67     56       89    359\n",
      "7            7          8     8  hendry   80     78     78       88    332\n",
      "8            8          9     9     ben   90     90     86       78    431\n",
      "9            9         10    10     ell   89     34     78       56    302\n",
      "10          10         11    11     soy   88     56     90       78    379\n",
      "11          11         12    12    park   89     78     78       80    412\n",
      "12          12         13    13     tom   86     56     45       95    370\n",
      "13          13         14    14   steve   87     87     78       78    416\n",
      "14          14         15    15     ken   54     90     67       67    363\n",
      "15          15         16    16     hen   67     34     89       75    353\n",
      "16          16         17    17   jemmy   80     56     45       77    342\n",
      "17          17         18    18     ren   90     78     67       78    398\n",
      "18          18         19    19     wan   99    100     56       98    353\n",
      "19          19         20    20     pen   92     45     78       45    260\n",
      "\n",
      " updated list\n",
      "\n"
     ]
    }
   ],
   "source": [
    "print(\"\\n drop one particular column and its values:\\n\")\n",
    "k.drop(['social'],axis=1,inplace=True)\n",
    "print(k)\n",
    "print(\"\\n updated list\\n\")\n",
    "k.to_excel(\"/Users/student/Downloads/exam list.xlsx\")"
   ]
  },
  {
   "cell_type": "code",
   "execution_count": null,
   "id": "89df701b-f8df-40b7-bf6f-23420bcb7c0b",
   "metadata": {},
   "outputs": [],
   "source": []
  }
 ],
 "metadata": {
  "kernelspec": {
   "display_name": "Python 3 (ipykernel)",
   "language": "python",
   "name": "python3"
  },
  "language_info": {
   "codemirror_mode": {
    "name": "ipython",
    "version": 3
   },
   "file_extension": ".py",
   "mimetype": "text/x-python",
   "name": "python",
   "nbconvert_exporter": "python",
   "pygments_lexer": "ipython3",
   "version": "3.12.4"
  }
 },
 "nbformat": 4,
 "nbformat_minor": 5
}
