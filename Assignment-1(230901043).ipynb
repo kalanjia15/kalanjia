{
 "cells": [
  {
   "cell_type": "code",
   "execution_count": 4,
   "id": "75497c9b",
   "metadata": {},
   "outputs": [
    {
     "name": "stdout",
     "output_type": "stream",
     "text": [
      " array with random value: \n",
      " [[0.26944377 0.76107127 0.77398373 0.32648999]\n",
      " [0.43644405 0.89799426 0.25572137 0.85804485]\n",
      " [0.68389153 0.93894507 0.3553355  0.69371329]]\n"
     ]
    }
   ],
   "source": [
    "import numpy as np\n",
    "a=np.random.random((3,4))\n",
    "print(' array with random value: \\n',a)"
   ]
  },
  {
   "cell_type": "code",
   "execution_count": 5,
   "id": "1bd117d3",
   "metadata": {},
   "outputs": [
    {
     "name": "stdout",
     "output_type": "stream",
     "text": [
      "array with zeros:\n",
      " [[0. 0. 0. 0.]\n",
      " [0. 0. 0. 0.]\n",
      " [0. 0. 0. 0.]]\n"
     ]
    }
   ],
   "source": [
    "import numpy as np\n",
    "a=np.zeros((3,4))\n",
    "print('array with zeros:\\n',a)"
   ]
  },
  {
   "cell_type": "code",
   "execution_count": 9,
   "id": "65e1ff21",
   "metadata": {},
   "outputs": [
    {
     "name": "stdout",
     "output_type": "stream",
     "text": [
      "[ 5  7  9 11 13 15 17 19 21 23 25 27 29]\n"
     ]
    }
   ],
   "source": [
    "import numpy as np\n",
    "a=np.arange(5,30,2)\n",
    "print(a)"
   ]
  },
  {
   "cell_type": "code",
   "execution_count": 10,
   "id": "b38c2009",
   "metadata": {},
   "outputs": [
    {
     "name": "stdout",
     "output_type": "stream",
     "text": [
      "\n",
      "shape:\n",
      " (3, 4)\n",
      "\n",
      "Dimension: \n",
      " 2\n",
      "\n",
      " Datatype:\n",
      " float64\n",
      "\n",
      " flatten: \n",
      " [0.92095113 0.13697355 0.42507131 0.74266301 0.77767167 0.09333686\n",
      " 0.47166307 0.17048143 0.07910098 0.33121583 0.29672321 0.17199066]\n"
     ]
    }
   ],
   "source": [
    "import numpy as np\n",
    "a=np.random.random((3,4))\n",
    "print('\\nshape:\\n',a.shape)\n",
    "print('\\nDimension: \\n',a.ndim)\n",
    "print(\"\\n Datatype:\\n\",a.dtype)\n",
    "print(\"\\n flatten: \\n\",a.flatten())"
   ]
  },
  {
   "cell_type": "code",
   "execution_count": null,
   "id": "6cd755f4",
   "metadata": {},
   "outputs": [],
   "source": []
  }
 ],
 "metadata": {
  "kernelspec": {
   "display_name": "Python 3 (ipykernel)",
   "language": "python",
   "name": "python3"
  },
  "language_info": {
   "codemirror_mode": {
    "name": "ipython",
    "version": 3
   },
   "file_extension": ".py",
   "mimetype": "text/x-python",
   "name": "python",
   "nbconvert_exporter": "python",
   "pygments_lexer": "ipython3",
   "version": "3.11.4"
  }
 },
 "nbformat": 4,
 "nbformat_minor": 5
}
