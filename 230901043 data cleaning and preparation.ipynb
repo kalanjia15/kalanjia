{
 "cells": [
  {
   "cell_type": "code",
   "execution_count": 4,
   "id": "1a3ef134",
   "metadata": {},
   "outputs": [
    {
     "name": "stdout",
     "output_type": "stream",
     "text": [
      "original dataframe with NaN\n",
      "         one       two     three\n",
      "a  1.132457  1.188583  0.607491\n",
      "b -0.322814 -0.912660 -0.922812\n",
      "c       NaN       NaN       NaN\n",
      "d  0.720880 -0.206852 -0.987862\n",
      "e       NaN       NaN       NaN\n",
      "f -0.328831  0.661645  0.371937\n",
      "\n",
      "\n",
      "Dropped Dataframe\n",
      "         one       two     three\n",
      "a  1.132457  1.188583  0.607491\n",
      "b -0.322814 -0.912660 -0.922812\n",
      "d  0.720880 -0.206852 -0.987862\n",
      "f -0.328831  0.661645  0.371937\n",
      "\n",
      "\n"
     ]
    }
   ],
   "source": [
    "import pandas as pd\n",
    "import numpy as np\n",
    "df=pd.DataFrame(np.random.randn(4,3),index=['a','b','d','f'],columns=['one','two','three'])\n",
    "df=df.reindex(['a','b','c','d','e','f'])\n",
    "print('original dataframe with NaN\\n',df)\n",
    "print(\"\\n\")\n",
    "print(\"Dropped Dataframe\\n\",df.dropna())\n",
    "print(\"\\n\")"
   ]
  },
  {
   "cell_type": "code",
   "execution_count": 6,
   "id": "4459a8f7",
   "metadata": {},
   "outputs": [
    {
     "name": "stdout",
     "output_type": "stream",
     "text": [
      "original dataframe with NaN\n",
      "         one       two     three\n",
      "a -1.276769  0.347334  0.003240\n",
      "b -1.161418 -2.517040  0.222392\n",
      "c       NaN       NaN       NaN\n",
      "\n",
      "\n",
      "Nan replace with'1':\n",
      "         one       two     three\n",
      "a -1.276769  0.347334  0.003240\n",
      "b -1.161418 -2.517040  0.222392\n",
      "c  1.000000  1.000000  1.000000\n",
      "\n",
      "\n"
     ]
    }
   ],
   "source": [
    "import pandas as pd\n",
    "import numpy as np\n",
    "df=pd.DataFrame(np.random.randn(4,3),index=['a','b','d','f'],columns=['one','two','three'])\n",
    "df=df.reindex(['a','b','c'])\n",
    "print('original dataframe with NaN\\n',df)\n",
    "print(\"\\n\")\n",
    "print(\"Nan replace with'1':\\n\",df.fillna(1))\n",
    "print(\"\\n\")"
   ]
  },
  {
   "cell_type": "code",
   "execution_count": 9,
   "id": "c1514204",
   "metadata": {},
   "outputs": [
    {
     "name": "stdout",
     "output_type": "stream",
     "text": [
      "original dataframe with NaN\n",
      "         one       two     three\n",
      "a -1.756091  0.064197  0.890671\n",
      "b -0.522434  0.657359  1.117207\n",
      "c       NaN       NaN       NaN\n",
      "d -1.078162  1.211461 -1.059457\n",
      "e       NaN       NaN       NaN\n",
      "f  1.247250  0.185996 -1.143762\n",
      "\n",
      "\n",
      "NaN with true fill:\n",
      "\n",
      "a    False\n",
      "b    False\n",
      "c     True\n",
      "d    False\n",
      "e     True\n",
      "f    False\n",
      "Name: one, dtype: bool\n",
      "\n",
      "\n",
      "\n",
      "NaN fill with background values:\n",
      "\n",
      "        one       two     three\n",
      "a -1.756091  0.064197  0.890671\n",
      "b -0.522434  0.657359  1.117207\n",
      "c -1.078162  1.211461 -1.059457\n",
      "d -1.078162  1.211461 -1.059457\n",
      "e  1.247250  0.185996 -1.143762\n",
      "f  1.247250  0.185996 -1.143762\n",
      "\n",
      "NaN filled with forward fill:\n",
      "\n",
      "        one       two     three\n",
      "a -1.756091  0.064197  0.890671\n",
      "b -0.522434  0.657359  1.117207\n",
      "c -0.522434  0.657359  1.117207\n",
      "d -1.078162  1.211461 -1.059457\n",
      "e -1.078162  1.211461 -1.059457\n",
      "f  1.247250  0.185996 -1.143762\n"
     ]
    }
   ],
   "source": [
    "import pandas as pd\n",
    "import numpy as np\n",
    "df=pd.DataFrame(np.random.randn(4,3),index=['a','b','d','f'],columns=['one','two','three'])\n",
    "df=df.reindex(['a','b','c','d','e','f'])\n",
    "print('original dataframe with NaN\\n',df)\n",
    "print(\"\\n\")\n",
    "print(\"NaN with true fill:\\n\")\n",
    "print(df['one'].isnull())\n",
    "print(\"\\n\")\n",
    "print(\"\\nNaN fill with background values:\\n\")\n",
    "print(df.bfill())\n",
    "print(\"\\nNaN filled with forward fill:\\n\")\n",
    "print(df.ffill())"
   ]
  },
  {
   "cell_type": "code",
   "execution_count": 10,
   "id": "ee84a2fb",
   "metadata": {},
   "outputs": [
    {
     "name": "stdout",
     "output_type": "stream",
     "text": [
      "original Dataframe :\n",
      "    one  Two\n",
      "0   10   60\n",
      "1   20   70\n",
      "2   80   80\n",
      "3   40    0\n",
      "4   50   10\n",
      "\n",
      " dataframe with replace values:\n",
      "\n",
      "   one  Two\n",
      "0    5   60\n",
      "1   20   70\n",
      "2   30   30\n",
      "3   40    0\n",
      "4   50    5\n"
     ]
    }
   ],
   "source": [
    "df=pd.DataFrame({'one':[10,20,80,40,50],'Two':[60,70,80,0,10]})\n",
    "print(\"original Dataframe :\\n\",df)\n",
    "print(\"\\n dataframe with replace values:\\n\")\n",
    "print(df.replace({10:5,80:30}))"
   ]
  },
  {
   "cell_type": "code",
   "execution_count": null,
   "id": "d4c83917",
   "metadata": {},
   "outputs": [],
   "source": []
  }
 ],
 "metadata": {
  "kernelspec": {
   "display_name": "Python 3 (ipykernel)",
   "language": "python",
   "name": "python3"
  },
  "language_info": {
   "codemirror_mode": {
    "name": "ipython",
    "version": 3
   },
   "file_extension": ".py",
   "mimetype": "text/x-python",
   "name": "python",
   "nbconvert_exporter": "python",
   "pygments_lexer": "ipython3",
   "version": "3.11.4"
  }
 },
 "nbformat": 4,
 "nbformat_minor": 5
}
