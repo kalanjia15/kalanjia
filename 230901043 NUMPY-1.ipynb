{
 "cells": [
  {
   "cell_type": "code",
   "execution_count": 1,
   "id": "ba6ce8d6",
   "metadata": {},
   "outputs": [
    {
     "name": "stdout",
     "output_type": "stream",
     "text": [
      "one dimensional array: [1 2 3]\n"
     ]
    }
   ],
   "source": [
    "import numpy as np\n",
    "a=np.array([1,2,3])\n",
    "print(\"one dimensional array:\",a)"
   ]
  },
  {
   "cell_type": "code",
   "execution_count": 2,
   "id": "72e6bf6d",
   "metadata": {},
   "outputs": [
    {
     "name": "stdout",
     "output_type": "stream",
     "text": [
      "three dimensional array: [[1 2 3]\n",
      " [4 5 6]\n",
      " [7 8 9]]\n"
     ]
    }
   ],
   "source": [
    "import numpy as np\n",
    "c=np.array([[1,2,3],[4,5,6],[7,8,9]])\n",
    "print(\"three dimensional array:\",c)"
   ]
  },
  {
   "cell_type": "code",
   "execution_count": 3,
   "id": "301d7fed",
   "metadata": {},
   "outputs": [
    {
     "name": "stdout",
     "output_type": "stream",
     "text": [
      "two dimensional array: [[1 2 3]\n",
      " [4 5 6]]\n"
     ]
    }
   ],
   "source": [
    "import numpy as np\n",
    "c=np.array([[1,2,3],[4,5,6]])\n",
    "print(\"two dimensional array:\",c)"
   ]
  },
  {
   "cell_type": "code",
   "execution_count": 5,
   "id": "cb37c04b",
   "metadata": {},
   "outputs": [
    {
     "name": "stdout",
     "output_type": "stream",
     "text": [
      "\n",
      " Array with all zeros:\n",
      " [[0. 0. 0. 0. 0.]\n",
      " [0. 0. 0. 0. 0.]\n",
      " [0. 0. 0. 0. 0.]]\n"
     ]
    }
   ],
   "source": [
    "import numpy as np\n",
    "c=np.zeros((3,5))\n",
    "print(\"\\n Array with all zeros:\\n\",c)"
   ]
  },
  {
   "cell_type": "code",
   "execution_count": 6,
   "id": "420d4ad0",
   "metadata": {
    "scrolled": true
   },
   "outputs": [
    {
     "name": "stdout",
     "output_type": "stream",
     "text": [
      "\n",
      " Array with all random values:\n",
      " [[0.11020522 0.85608357]\n",
      " [0.53487301 0.61860064]\n",
      " [0.09479699 0.52250838]]\n"
     ]
    }
   ],
   "source": [
    "\n",
    "import numpy as np\n",
    "c=np.random.random((3,2))\n",
    "print(\"\\n Array with all random values:\\n\",c)"
   ]
  },
  {
   "cell_type": "code",
   "execution_count": 8,
   "id": "c27e5f64",
   "metadata": {},
   "outputs": [
    {
     "name": "stdout",
     "output_type": "stream",
     "text": [
      "\n",
      " original array:\n",
      " [[0.07871069 0.4357635 ]\n",
      " [0.73904882 0.87810039]\n",
      " [0.64047278 0.94264255]]\n",
      "\n",
      " new array:\n",
      " [[0.07871069 0.4357635  0.73904882]\n",
      " [0.87810039 0.64047278 0.94264255]]\n"
     ]
    }
   ],
   "source": [
    "import numpy as np\n",
    "c=np.random.random((3,2))\n",
    "new=c.reshape((2,3))\n",
    "print(\"\\n original array:\\n\",c)\n",
    "print(\"\\n new array:\\n\",new)"
   ]
  },
  {
   "cell_type": "code",
   "execution_count": 9,
   "id": "d0c2459d",
   "metadata": {},
   "outputs": [
    {
     "name": "stdout",
     "output_type": "stream",
     "text": [
      "\n",
      " sequence array:\n",
      " [10 20 30 40 50 60 70 80 90]\n"
     ]
    }
   ],
   "source": [
    "import numpy as np\n",
    "c=np.arange(10,100,10)\n",
    "print(\"\\n sequence array:\\n\",c)"
   ]
  },
  {
   "cell_type": "code",
   "execution_count": 13,
   "id": "242ea242",
   "metadata": {},
   "outputs": [
    {
     "name": "stdout",
     "output_type": "stream",
     "text": [
      "\n",
      " original array:\n",
      " [[0.77695839 0.11213724]\n",
      " [0.15827749 0.44355524]\n",
      " [0.12823022 0.03354346]]\n",
      "\n",
      " flattened array:\n",
      " [0.77695839 0.11213724 0.15827749 0.44355524 0.12823022 0.03354346]\n",
      "\n",
      " dimension of the array:\n",
      " 2\n"
     ]
    }
   ],
   "source": [
    "import numpy as np\n",
    "a=np.random.random((3,2))\n",
    "c=a.flatten()\n",
    "print(\"\\n original array:\\n\",a)\n",
    "print('\\n flattened array:\\n',c)\n",
    "print(\"\\n dimension of the array:\\n\",a.ndim)\n"
   ]
  },
  {
   "cell_type": "code",
   "execution_count": 14,
   "id": "252b7bc7",
   "metadata": {},
   "outputs": [
    {
     "name": "stdout",
     "output_type": "stream",
     "text": [
      "\n",
      " original array:\n",
      " [[[ 1  2  3]\n",
      "  [ 4  5  6]]\n",
      "\n",
      " [[ 7  8  9]\n",
      "  [10 11 12]]]\n",
      "\n",
      " dimension of the array:\n",
      " 3\n"
     ]
    }
   ],
   "source": [
    "import numpy as np\n",
    "a=np.array([[[1,2,3],[4,5,6]],[[7,8,9],[10,11,12]]])\n",
    "print('\\n original array:\\n',a)\n",
    "print('\\n dimension of the array:\\n',a.ndim)"
   ]
  },
  {
   "cell_type": "code",
   "execution_count": 16,
   "id": "2dfe35c2",
   "metadata": {},
   "outputs": [
    {
     "name": "stdout",
     "output_type": "stream",
     "text": [
      "shape of array (3, 3)\n"
     ]
    }
   ],
   "source": [
    "import numpy as np\n",
    "a=np.array([[1,2,3],[4,5,6],[7,8,9]])\n",
    "print(\"shape of array\",a.shape)"
   ]
  },
  {
   "cell_type": "code",
   "execution_count": 17,
   "id": "d6b37231",
   "metadata": {},
   "outputs": [
    {
     "name": "stdout",
     "output_type": "stream",
     "text": [
      "data type int64\n"
     ]
    }
   ],
   "source": [
    "import numpy as np\n",
    "a=np.array([[1,2,3],[4,5,6],[7,8,9]])\n",
    "print('data type',a.dtype)"
   ]
  },
  {
   "cell_type": "code",
   "execution_count": 2,
   "id": "0dfd8865",
   "metadata": {},
   "outputs": [
    {
     "name": "stdout",
     "output_type": "stream",
     "text": [
      "[10. 20. 30.]\n"
     ]
    }
   ],
   "source": [
    "import numpy as np\n",
    "a=[10,20,30]\n",
    "a=np.array(a)\n",
    "new=a.astype('float64')\n",
    "print(new)"
   ]
  },
  {
   "cell_type": "code",
   "execution_count": null,
   "id": "0d099484",
   "metadata": {},
   "outputs": [],
   "source": []
  }
 ],
 "metadata": {
  "kernelspec": {
   "display_name": "Python 3 (ipykernel)",
   "language": "python",
   "name": "python3"
  },
  "language_info": {
   "codemirror_mode": {
    "name": "ipython",
    "version": 3
   },
   "file_extension": ".py",
   "mimetype": "text/x-python",
   "name": "python",
   "nbconvert_exporter": "python",
   "pygments_lexer": "ipython3",
   "version": "3.11.4"
  }
 },
 "nbformat": 4,
 "nbformat_minor": 5
}
