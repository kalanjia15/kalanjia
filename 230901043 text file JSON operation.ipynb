{
 "cells": [
  {
   "cell_type": "code",
   "execution_count": 1,
   "id": "51d5e5f4",
   "metadata": {},
   "outputs": [],
   "source": [
    "f=open(\"/Users/student/Downloads/peter.txt\",\"w\")\n",
    "f.write(\"Wakeup early\\n\")\n",
    "f.write(\"read daily\\n\")\n",
    "f.write(\"be practical \\n\")\n",
    "f.close()"
   ]
  },
  {
   "cell_type": "code",
   "execution_count": 4,
   "id": "5e09a06d",
   "metadata": {},
   "outputs": [
    {
     "name": "stdout",
     "output_type": "stream",
     "text": [
      "Wakeup early\n",
      "\n"
     ]
    }
   ],
   "source": [
    "a=open(\"/Users/student/Downloads/peter.txt\",\"r\")\n",
    "print(a.readline())"
   ]
  },
  {
   "cell_type": "code",
   "execution_count": 5,
   "id": "d11adaae",
   "metadata": {},
   "outputs": [],
   "source": [
    "b=open(\"/Users/student/Downloads/peter.txt\",\"a\")\n",
    "b.write(\"bavani \\n\")\n",
    "b.write(\"ritika \\n\")\n",
    "b.close()"
   ]
  },
  {
   "cell_type": "code",
   "execution_count": 6,
   "id": "f5b542d5",
   "metadata": {},
   "outputs": [
    {
     "name": "stdout",
     "output_type": "stream",
     "text": [
      "Wakeup early\n",
      "read daily\n",
      "be practical \n",
      "bavani \n",
      "ritika \n",
      "\n"
     ]
    }
   ],
   "source": [
    "c=open(\"/Users/student/Downloads/peter.txt\",\"r\")\n",
    "print(c.read())\n",
    "c.close()"
   ]
  },
  {
   "cell_type": "code",
   "execution_count": 7,
   "id": "219608bd",
   "metadata": {},
   "outputs": [
    {
     "name": "stdout",
     "output_type": "stream",
     "text": [
      "['Wakeup early\\n', 'read daily\\n', 'be practical \\n', 'bavani \\n', 'ritika \\n']\n"
     ]
    }
   ],
   "source": [
    "with open(\"/Users/student/Downloads/peter.txt\",\"r\") as file:\n",
    "    lines=file.readlines()\n",
    "print(lines)"
   ]
  },
  {
   "cell_type": "code",
   "execution_count": 9,
   "id": "d9bb8b9c",
   "metadata": {},
   "outputs": [
    {
     "name": "stdout",
     "output_type": "stream",
     "text": [
      "delhi\n",
      "\"{\\\"name\\\":\\\"sundar\\\",\\\"age\\\":\\\"25\\\",\\\"city\\\":\\\"delhi\\\"}\"\n"
     ]
    }
   ],
   "source": [
    "import json\n",
    "x='{\"name\":\"sundar\",\"age\":\"25\",\"city\":\"delhi\"}'\n",
    "y=json.loads(x)\n",
    "print(y[\"city\"])\n",
    "y=json.dumps(x)\n",
    "print(y)"
   ]
  },
  {
   "cell_type": "code",
   "execution_count": null,
   "id": "71c55015",
   "metadata": {},
   "outputs": [],
   "source": []
  }
 ],
 "metadata": {
  "kernelspec": {
   "display_name": "Python 3 (ipykernel)",
   "language": "python",
   "name": "python3"
  },
  "language_info": {
   "codemirror_mode": {
    "name": "ipython",
    "version": 3
   },
   "file_extension": ".py",
   "mimetype": "text/x-python",
   "name": "python",
   "nbconvert_exporter": "python",
   "pygments_lexer": "ipython3",
   "version": "3.11.4"
  }
 },
 "nbformat": 4,
 "nbformat_minor": 5
}
