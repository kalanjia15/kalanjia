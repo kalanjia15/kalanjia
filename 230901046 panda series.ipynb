{
 "cells": [
  {
   "cell_type": "code",
   "execution_count": 8,
   "id": "ffa6f385",
   "metadata": {},
   "outputs": [
    {
     "name": "stdout",
     "output_type": "stream",
     "text": [
      "0    k\n",
      "1    a\n",
      "2    v\n",
      "3    i\n",
      "4    y\n",
      "5    a\n",
      "dtype: object\n"
     ]
    }
   ],
   "source": [
    "import pandas as pd\n",
    "import numpy as np\n",
    "a=np.array(['k','a','v','i','y','a'])\n",
    "b=pd.Series(a)\n",
    "print(b)"
   ]
  },
  {
   "cell_type": "code",
   "execution_count": 3,
   "id": "47fc69a4",
   "metadata": {},
   "outputs": [
    {
     "name": "stdout",
     "output_type": "stream",
     "text": [
      "a    0\n",
      "b    1\n",
      "c    2\n",
      "dtype: int64\n"
     ]
    }
   ],
   "source": [
    "import pandas as pd\n",
    "import numpy as np\n",
    "a={'a':0,'b':1,'c':2}\n",
    "b=pd.Series(a)\n",
    "print(b)"
   ]
  },
  {
   "cell_type": "code",
   "execution_count": 4,
   "id": "7ce9b210",
   "metadata": {},
   "outputs": [
    {
     "name": "stdout",
     "output_type": "stream",
     "text": [
      "0    4\n",
      "1    4\n",
      "2    4\n",
      "3    4\n",
      "dtype: int64\n"
     ]
    }
   ],
   "source": [
    "import pandas as pd\n",
    "import numpy as np\n",
    "a=pd.Series(4,index=[0,1,2,3])\n",
    "print(a)"
   ]
  },
  {
   "cell_type": "code",
   "execution_count": 9,
   "id": "0ee9d48e",
   "metadata": {},
   "outputs": [
    {
     "name": "stdout",
     "output_type": "stream",
     "text": [
      "\n",
      " Series: \n",
      " 0    k\n",
      "1    a\n",
      "2    v\n",
      "3    i\n",
      "4    y\n",
      "5    a\n",
      "dtype: object\n",
      "\n",
      " Index: \n",
      " RangeIndex(start=0, stop=6, step=1)\n",
      "\n",
      " Values: \n",
      " ['k' 'a' 'v' 'i' 'y' 'a']\n",
      "\n",
      " Shape: \n",
      " (6,)\n",
      "\n",
      " Dimension: \n",
      " 1\n",
      "\n",
      " Size: \n",
      " 6\n"
     ]
    }
   ],
   "source": [
    "print(\"\\n Series: \\n\",b)\n",
    "print(\"\\n Index: \\n\",b.index)\n",
    "print(\"\\n Values: \\n\",b.values)\n",
    "print(\"\\n Shape: \\n\",b.shape)\n",
    "print(\"\\n Dimension: \\n\",b.ndim)\n",
    "print(\"\\n Size: \\n\",b.size)"
   ]
  },
  {
   "cell_type": "code",
   "execution_count": null,
   "id": "365dc3de",
   "metadata": {},
   "outputs": [],
   "source": []
  }
 ],
 "metadata": {
  "kernelspec": {
   "display_name": "Python 3 (ipykernel)",
   "language": "python",
   "name": "python3"
  },
  "language_info": {
   "codemirror_mode": {
    "name": "ipython",
    "version": 3
   },
   "file_extension": ".py",
   "mimetype": "text/x-python",
   "name": "python",
   "nbconvert_exporter": "python",
   "pygments_lexer": "ipython3",
   "version": "3.11.4"
  }
 },
 "nbformat": 4,
 "nbformat_minor": 5
}
