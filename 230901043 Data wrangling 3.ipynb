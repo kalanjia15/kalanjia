{
 "cells": [
  {
   "cell_type": "code",
   "execution_count": 3,
   "id": "acd2d20c",
   "metadata": {},
   "outputs": [
    {
     "name": "stdout",
     "output_type": "stream",
     "text": [
      "\n",
      "Original DataFrame:\n",
      "        Brand  Year  Sold\n",
      "0     Maruti  2010     6\n",
      "1     Maruti  2011     7\n",
      "2     Maruti  2009     9\n",
      "3     Maruti  2013     8\n",
      "4    Hyundai  2010     3\n",
      "5    Hyundai  2011     5\n",
      "6     Toyota  2011     2\n",
      "7   Mahindra  2010     8\n",
      "8   Mahindra  2013     7\n",
      "9       Ford  2010     2\n",
      "10    Toyota  2010     4\n",
      "11      Ford  2011     2\n",
      "\n",
      "Group by year 2010:\n",
      "        Brand  Year  Sold\n",
      "0     Maruti  2010     6\n",
      "4    Hyundai  2010     3\n",
      "7   Mahindra  2010     8\n",
      "9       Ford  2010     2\n",
      "10    Toyota  2010     4\n"
     ]
    }
   ],
   "source": [
    "import pandas as pd\n",
    "car_selling_data ={'Brand':['Maruti','Maruti','Maruti','Maruti','Hyundai','Hyundai','Toyota','Mahindra','Mahindra','Ford','Toyota','Ford'],\n",
    "'Year':[2010, 2011, 2009, 2013, 2010, 2011, 2011, 2010, 2013, 2010, 2010, 2011],\n",
    "'Sold':[6, 7, 9, 8, 3, 5,2, 8, 7, 2, 4, 2]}\n",
    "\n",
    "#Creating DataFrame for provided Data\n",
    "df = pd. DataFrame(car_selling_data)\n",
    "print(\"\\nOriginal DataFrame:\\n\",df)\n",
    "\n",
    "#Group the data when year= 2020\n",
    "grouped = df.groupby('Year')\n",
    "print(\"\\nGroup by year 2010:\\n\",grouped.get_group(2010))"
   ]
  },
  {
   "cell_type": "code",
   "execution_count": 4,
   "id": "50d591ec",
   "metadata": {},
   "outputs": [
    {
     "name": "stdout",
     "output_type": "stream",
     "text": [
      "\n",
      "Original DataFrame 1:\n",
      "     ID     NAME BRANCH\n",
      "0  101     Arun   Mech\n",
      "1  102  Praveen   Mech\n",
      "2  103   Harish    CSE\n",
      "3  104    Pooja    CSE\n",
      "4  105    Rahul    CSE\n",
      "5  106   Naresh    EEE\n",
      "6  107  Saurabh    EEE\n",
      "7  108    Anush    ECE\n",
      "8  109   Dinesh    ECE\n",
      "9  110    Mohit     IT\n",
      "\n",
      "Original DataFrame:\n",
      "     ID PENDING\n",
      "0  101    5000\n",
      "1  102     250\n",
      "2  103     NIL\n",
      "3  104    9000\n",
      "4  105   15000\n",
      "5  106     NIL\n",
      "6  107    4500\n",
      "7  108    1800\n",
      "8  109     250\n",
      "9  110     NIL\n",
      "\n",
      "Merged Dataframe\n",
      "     ID     NAME BRANCH PENDING\n",
      "0  101     Arun   Mech    5000\n",
      "1  102  Praveen   Mech     250\n",
      "2  103   Harish    CSE     NIL\n",
      "3  104    Pooja    CSE    9000\n",
      "4  105    Rahul    CSE   15000\n",
      "5  106   Naresh    EEE     NIL\n",
      "6  107  Saurabh    EEE    4500\n",
      "7  108    Anush    ECE    1800\n",
      "8  109   Dinesh    ECE     250\n",
      "9  110    Mohit     IT     NIL\n"
     ]
    }
   ],
   "source": [
    "#creating datafram\n",
    "details=pd.DataFrame({'ID':[101, 102, 103, 104, 105, 106, 107, 108, 109, 110],\n",
    "'NAME':['Arun', 'Praveen', 'Harish','Pooja', 'Rahul', 'Naresh','Saurabh','Anush','Dinesh',\n",
    "'Mohit'],\n",
    "\n",
    "'BRANCH':['Mech', 'Mech', 'CSE', 'CSE', 'CSE', 'EEE','EEE', 'ECE', 'ECE', 'IT']})\n",
    "print(\"\\nOriginal DataFrame 1:\\n\", details)\n",
    "#creating datafram\n",
    "fees_status=pd.DataFrame ({'ID': [101, 102, 103, 104, 105, 106, 107, 108, 109, 110],\n",
    "'PENDING': ['5000', '250', 'NIL', '9000', '15000', 'NIL', '4500', '1800', '250', 'NIL']})\n",
    "print(\"\\nOriginal DataFrame:\\n\", fees_status)\n",
    "#mergind dataframe\n",
    "print(\"\\nMerged Dataframe\\n\",pd.merge(details,fees_status,on='ID'))"
   ]
  },
  {
   "cell_type": "code",
   "execution_count": null,
   "id": "66eceb76",
   "metadata": {},
   "outputs": [],
   "source": []
  }
 ],
 "metadata": {
  "kernelspec": {
   "display_name": "Python 3 (ipykernel)",
   "language": "python",
   "name": "python3"
  },
  "language_info": {
   "codemirror_mode": {
    "name": "ipython",
    "version": 3
   },
   "file_extension": ".py",
   "mimetype": "text/x-python",
   "name": "python",
   "nbconvert_exporter": "python",
   "pygments_lexer": "ipython3",
   "version": "3.11.4"
  }
 },
 "nbformat": 4,
 "nbformat_minor": 5
}
